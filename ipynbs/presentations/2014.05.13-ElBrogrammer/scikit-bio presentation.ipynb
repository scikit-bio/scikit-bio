{
 "metadata": {
  "name": "",
  "signature": "sha256:be2e38db4846dcb43a6024d9b9896f3aebcabaec8af6bbbc9e0438dd11bbf53f"
 },
 "nbformat": 3,
 "nbformat_minor": 0,
 "worksheets": [
  {
   "cells": [
    {
     "cell_type": "code",
     "collapsed": false,
     "input": [
      "# I keep this as a cell in my title slide so I can rerun \n",
      "# it easily if I make changes, but it's low enough it won't\n",
      "# be visible in presentation mode.\n",
      "%run talktools"
     ],
     "language": "python",
     "metadata": {
      "slideshow": {
       "slide_type": "notes"
      }
     },
     "outputs": [
      {
       "html": [
        "<style>\n",
        "\n",
        "/* Originally from https://github.com/fperez/nb-slideshow-template */\n",
        "\n",
        ".rendered_html\n",
        "{\n",
        "  color: #2C5494;\n",
        "  font-family: Ubuntu;\n",
        "  font-size: 160%;\n",
        "  line-height: 1.1;\n",
        "  margin: 0.5em 0;\n",
        "  }\n",
        "\n",
        ".title\n",
        "{\n",
        "  color: #498AF3;\n",
        "  font-size: 250%;\n",
        "  font-weight:bold;\n",
        "  line-height: 1.2; \n",
        "  margin: 10px 50px 10px;\n",
        "  }\n",
        "\n",
        ".subtitle\n",
        "{\n",
        "  color: #386BBC;\n",
        "  font-size: 180%;\n",
        "  font-weight:bold;\n",
        "  line-height: 1.2; \n",
        "  margin: 20px 50px 20px;\n",
        "  }\n",
        "\n",
        ".slide-header, p.slide-header\n",
        "{\n",
        "  color: #498AF3;\n",
        "  font-size: 200%;\n",
        "  font-weight:bold;\n",
        "  margin: 0px 20px 10px;\n",
        "  page-break-before: always;\n",
        "  text-align: center;\n",
        "  }\n",
        "\n",
        ".rendered_html h1\n",
        "{\n",
        "  color: #498AF3;\n",
        "  line-height: 1.2; \n",
        "  margin: 0.15em 0em 0.5em;\n",
        "  page-break-before: always;\n",
        "  text-align: center;\n",
        "  }\n",
        "\n",
        "\n",
        ".rendered_html h2\n",
        "{ \n",
        "  color: #386BBC;\n",
        "  line-height: 1.2;\n",
        "  margin: 1.1em 0em 0.5em;\n",
        "  }\n",
        "\n",
        ".rendered_html h3\n",
        "{ \n",
        "  font-size: 100%;\n",
        "  line-height: 1.2;\n",
        "  margin: 1.1em 0em 0.5em;\n",
        "  }\n",
        "\n",
        ".rendered_html li\n",
        "{\n",
        "  line-height: 1.8;\n",
        "  }\n",
        "\n",
        ".input_prompt, .CodeMirror-lines, .output_area\n",
        "{\n",
        "  font-size: 120%;\n",
        "  }\n",
        "\n",
        ".gap-above\n",
        "{\n",
        "  padding-top: 200px;\n",
        "  }\n",
        "\n",
        ".gap01\n",
        "{\n",
        "  padding-top: 10px;\n",
        "  }\n",
        "\n",
        ".gap05\n",
        "{\n",
        "  padding-top: 50px;\n",
        "  }\n",
        "\n",
        ".gap1\n",
        "{\n",
        "  padding-top: 100px;\n",
        "  }\n",
        "\n",
        ".gap2\n",
        "{\n",
        "  padding-top: 200px;\n",
        "  }\n",
        "\n",
        ".gap3\n",
        "{\n",
        "  padding-top: 300px;\n",
        "  }\n",
        "\n",
        ".emph\n",
        "{\n",
        "  color: #386BBC;\n",
        "  }\n",
        "\n",
        ".warn\n",
        "{\n",
        "  color: red;\n",
        "  }\n",
        "\n",
        ".center\n",
        "{\n",
        "  text-align: center;\n",
        "  }\n",
        "\n",
        ".nb_link\n",
        "{\n",
        "    padding-bottom: 0.5em;\n",
        "}\n",
        "\n",
        "</style>\n"
       ],
       "metadata": {},
       "output_type": "display_data",
       "text": [
        "<IPython.core.display.HTML at 0x21309d0>"
       ]
      }
     ],
     "prompt_number": 1
    },
    {
     "cell_type": "markdown",
     "metadata": {
      "slideshow": {
       "slide_type": "slide"
      }
     },
     "source": [
      "<p class=\"title\">scikit-bio:</p>\n",
      "\n",
      "<p class=\"subtitle\">interactive bioinformatics in Python</p>\n",
      "\n",
      "<center>\n",
      "\n",
      "<p class=\"gap05\"<p>\n",
      "<h2>[scikit-bio.org](http://scikit-bio.org)</h2>\n",
      "\n",
      "<p class=\"gap05\"<p>\n",
      "<h3>Jai Ram Rideout</h3>\n",
      "<h3>[@ElBrogrammer](https://github.com/ElBrogrammer)</h3>\n",
      "<h3>[Caporaso Lab](http://caporasolab.us)</h3>\n",
      "\n",
      "<p class=\"gap2\"<p>\n",
      "</center>"
     ]
    },
    {
     "cell_type": "markdown",
     "metadata": {
      "slideshow": {
       "slide_type": "slide"
      }
     },
     "source": [
      "# What's scikit-bio?\n",
      "\n",
      "An open source Python bioinformatics library designed to be:\n",
      "\n",
      "* collaborative\n",
      "* interactive\n",
      "* well-documented\n",
      "* an educational resource\n",
      "* performant\n",
      "* well-tested\n",
      "\n",
      "It's under <span class=\"emph\">active development</span> and is <span class=\"warn\">pre-alpha</span>: the API may change!"
     ]
    },
    {
     "cell_type": "markdown",
     "metadata": {
      "slideshow": {
       "slide_type": "slide"
      }
     },
     "source": [
      "# What's with the name?\n",
      "\n",
      "## <span class=\"emph\">scikit</span>-<span class=\"warn\">bio</span>:\n",
      "\n",
      "It's a <span class=\"emph\">scikit</span>: a toolkit built using SciPy that provides functionality used in <span class=\"warn\">bio</span>informatics.\n",
      "\n",
      "It's the first scikit focused on bioinformatics.\n",
      "\n",
      "Sometimes abbreviated <span class=\"emph\">skbio</span>."
     ]
    },
    {
     "cell_type": "markdown",
     "metadata": {
      "slideshow": {
       "slide_type": "slide"
      }
     },
     "source": [
      "# scikits"
     ]
    },
    {
     "cell_type": "code",
     "collapsed": false,
     "input": [
      "website('scikits.appspot.com/scikits', 'List of scikits')"
     ],
     "language": "python",
     "metadata": {},
     "outputs": [
      {
       "html": [
        "<div class=\"nb_link\">\n",
        "<a href=\"http://scikits.appspot.com/scikits\" target=\"_blank\">List of scikits</a>\n",
        "</div>\n",
        "<iframe src=\"http://scikits.appspot.com/scikits\"  width=\"800\" height=\"450\">"
       ],
       "metadata": {},
       "output_type": "pyout",
       "prompt_number": 2,
       "text": [
        "<IPython.core.display.HTML at 0x2130d90>"
       ]
      }
     ],
     "prompt_number": 2
    },
    {
     "cell_type": "markdown",
     "metadata": {
      "slideshow": {
       "slide_type": "slide"
      }
     },
     "source": [
      "# Who should use it?"
     ]
    },
    {
     "cell_type": "markdown",
     "metadata": {
      "slideshow": {
       "slide_type": "fragment"
      }
     },
     "source": [
      "* Researchers\n",
      "  - Directly use skbio to analyze data, test hypotheses, and reach conclusions\n",
      "  - Example: this presentation :)"
     ]
    },
    {
     "cell_type": "markdown",
     "metadata": {
      "slideshow": {
       "slide_type": "fragment"
      }
     },
     "source": [
      "* Software developers\n",
      "  - Use skbio to build larger systems that answer biological questions\n",
      "  - Example: QIIME, EMPeror"
     ]
    },
    {
     "cell_type": "markdown",
     "metadata": {
      "slideshow": {
       "slide_type": "fragment"
      }
     },
     "source": [
      "* Students\n",
      "  - Use skbio as tool for learning bioinformatics\n",
      "  - Example: Introduction to Applied Bioinformatics (IAB)"
     ]
    },
    {
     "cell_type": "markdown",
     "metadata": {
      "slideshow": {
       "slide_type": "slide"
      }
     },
     "source": [
      "# Interactive computing: flexible API"
     ]
    },
    {
     "cell_type": "code",
     "collapsed": false,
     "input": [
      "from skbio.core.distance import DistanceMatrix\n",
      "\n",
      "# Load using file path\n",
      "dm1 = DistanceMatrix.from_file('smalldm.txt')\n",
      "\n",
      "# Load using file object\n",
      "with open('smalldm.txt', 'U') as dm_f:\n",
      "    dm2 = DistanceMatrix.from_file(dm_f)\n",
      "\n",
      "# They should be equal\n",
      "dm1 == dm2"
     ],
     "language": "python",
     "metadata": {
      "slideshow": {
       "slide_type": "-"
      }
     },
     "outputs": [
      {
       "metadata": {},
       "output_type": "pyout",
       "prompt_number": 3,
       "text": [
        "True"
       ]
      }
     ],
     "prompt_number": 3
    },
    {
     "cell_type": "markdown",
     "metadata": {
      "slideshow": {
       "slide_type": "slide"
      }
     },
     "source": [
      "# Interactive computing: ASCII art!"
     ]
    },
    {
     "cell_type": "code",
     "collapsed": false,
     "input": [
      "from skbio.core.tree import TreeNode\n",
      "tree = TreeNode.from_newick('((A, B)C, D)root;')\n",
      "print tree.ascii_art()"
     ],
     "language": "python",
     "metadata": {},
     "outputs": [
      {
       "output_type": "stream",
       "stream": "stdout",
       "text": [
        "                    /-A\n",
        "          /C-------|\n",
        "-root----|          \\-B\n",
        "         |\n",
        "          \\-D\n"
       ]
      }
     ],
     "prompt_number": 1
    },
    {
     "cell_type": "markdown",
     "metadata": {
      "slideshow": {
       "slide_type": "slide"
      }
     },
     "source": [
      "# Documentation\n",
      "\n",
      "## Docstrings\n",
      "* [numpydoc](https://github.com/numpy/numpy/blob/master/doc/HOWTO_DOCUMENT.rst.txt) standard\n",
      "* Readable by humans and machines\n",
      "* Readable from within:\n",
      "  - the code\n",
      "  - an interactive session (Python/IPython/IPython Notebook)\n",
      "  - website (HTML)\n",
      "  - PDF"
     ]
    },
    {
     "cell_type": "markdown",
     "metadata": {
      "slideshow": {
       "slide_type": "slide"
      }
     },
     "source": [
      "# Getting help"
     ]
    },
    {
     "cell_type": "code",
     "collapsed": false,
     "input": [
      "help(DistanceMatrix)"
     ],
     "language": "python",
     "metadata": {},
     "outputs": [
      {
       "output_type": "stream",
       "stream": "stdout",
       "text": [
        "Help on class DistanceMatrix in module skbio.core.distance:\n",
        "\n",
        "class DistanceMatrix(DissimilarityMatrix)\n",
        " |  Store distances between objects.\n",
        " |  \n",
        " |  A `DistanceMatrix` is a `DissimilarityMatrix` with the additional\n",
        " |  requirement that the matrix data is symmetric. There are additional methods\n",
        " |  made available that take advantage of this symmetry.\n",
        " |  \n",
        " |  See Also\n",
        " |  --------\n",
        " |  DissimilarityMatrix\n",
        " |  \n",
        " |  Notes\n",
        " |  -----\n",
        " |  The distances are stored in redundant (square-form) format [1]_. To\n",
        " |  facilitate use with other scientific Python routines (e.g., scipy), the\n",
        " |  distances can be retrieved in condensed (vector-form) format using\n",
        " |  `condensed_form`.\n",
        " |  \n",
        " |  `DistanceMatrix` only requires that the distances it stores are symmetric.\n",
        " |  Checks are *not* performed to ensure the other three metric properties\n",
        " |  hold (non-negativity, identity of indiscernibles, and triangle inequality)\n",
        " |  [2]_. Thus, a `DistanceMatrix` instance can store distances that are not\n",
        " |  metric.\n",
        " |  \n",
        " |  References\n",
        " |  ----------\n",
        " |  .. [1] http://docs.scipy.org/doc/scipy/reference/spatial.distance.html\n",
        " |  .. [2] http://planetmath.org/metricspace\n",
        " |  \n",
        " |  Method resolution order:\n",
        " |      DistanceMatrix\n",
        " |      DissimilarityMatrix\n",
        " |      __builtin__.object\n",
        " |  \n",
        " |  Methods defined here:\n",
        " |  \n",
        " |  condensed_form(self)\n",
        " |      Return an array of distances in condensed format.\n",
        " |      \n",
        " |      Returns\n",
        " |      -------\n",
        " |      ndarray\n",
        " |          One-dimensional ``numpy.ndarray`` of distances in condensed format.\n",
        " |      \n",
        " |      Notes\n",
        " |      -----\n",
        " |      Condensed format is described in [1]_.\n",
        " |      \n",
        " |      The conversion is not a constant-time operation, though it should be\n",
        " |      relatively quick to perform.\n",
        " |      \n",
        " |      References\n",
        " |      ----------\n",
        " |      .. [1] http://docs.scipy.org/doc/scipy/reference/spatial.distance.html\n",
        " |  \n",
        " |  ----------------------------------------------------------------------\n",
        " |  Methods inherited from DissimilarityMatrix:\n",
        " |  \n",
        " |  __eq__(self, other)\n",
        " |      Compare this dissimilarity matrix to another for equality.\n",
        " |      \n",
        " |      Two dissimilarity matrices are equal if they have the same shape, IDs\n",
        " |      (in the same order!), and have data arrays that are equal.\n",
        " |      \n",
        " |      Checks are *not* performed to ensure that `other` is a\n",
        " |      `DissimilarityMatrix` instance.\n",
        " |      \n",
        " |      Parameters\n",
        " |      ----------\n",
        " |      other : DissimilarityMatrix\n",
        " |          Dissimilarity matrix to compare to for equality.\n",
        " |      \n",
        " |      Returns\n",
        " |      -------\n",
        " |      bool\n",
        " |          ``True`` if `self` is equal to `other`, ``False`` otherwise.\n",
        " |      \n",
        " |      .. shownumpydoc\n",
        " |  \n",
        " |  __getitem__(self, index)\n",
        " |      Slice into dissimilarity data by object ID or numpy indexing.\n",
        " |      \n",
        " |      Extracts data from the dissimilarity matrix by object ID, a pair of\n",
        " |      IDs, or numpy indexing/slicing.\n",
        " |      \n",
        " |      Parameters\n",
        " |      ----------\n",
        " |      index : str, two-tuple of str, or numpy index\n",
        " |          `index` can be one of the following forms: an ID, a pair of IDs, or\n",
        " |          a numpy index.\n",
        " |      \n",
        " |          If `index` is a string, it is assumed to be an ID and a\n",
        " |          ``numpy.ndarray`` row vector is returned for the corresponding ID.\n",
        " |          Note that the ID's row of dissimilarities is returned, *not* its\n",
        " |          column. If the matrix is symmetric, the two will be identical, but\n",
        " |          this makes a difference if the matrix is asymmetric.\n",
        " |      \n",
        " |          If `index` is a two-tuple of strings, each string is assumed to be\n",
        " |          an ID and the corresponding matrix element is returned that\n",
        " |          represents the dissimilarity between the two IDs. Note that the\n",
        " |          order of lookup by ID pair matters if the matrix is asymmetric: the\n",
        " |          first ID will be used to look up the row, and the second ID will be\n",
        " |          used to look up the column. Thus, ``dm['a', 'b']`` may not be the\n",
        " |          same as ``dm['b', 'a']`` if the matrix is asymmetric.\n",
        " |      \n",
        " |          Otherwise, `index` will be passed through to\n",
        " |          ``DissimilarityMatrix.data.__getitem__``, allowing for standard\n",
        " |          indexing of a ``numpy.ndarray`` (e.g., slicing).\n",
        " |      \n",
        " |      Returns\n",
        " |      -------\n",
        " |      ndarray or scalar\n",
        " |          Indexed data, where return type depends on the form of `index` (see\n",
        " |          description of `index` for more details).\n",
        " |      \n",
        " |      Raises\n",
        " |      ------\n",
        " |      MissingIDError\n",
        " |          If the ID(s) specified in `index` are not in the dissimilarity\n",
        " |          matrix.\n",
        " |      \n",
        " |      Notes\n",
        " |      -----\n",
        " |      The lookup based on ID(s) is quick.\n",
        " |      \n",
        " |      .. shownumpydoc\n",
        " |  \n",
        " |  __init__(self, data, ids)\n",
        " |  \n",
        " |  __ne__(self, other)\n",
        " |      Determine whether two dissimilarity matrices are not equal.\n",
        " |      \n",
        " |      Parameters\n",
        " |      ----------\n",
        " |      other : DissimilarityMatrix\n",
        " |          Dissimilarity matrix to compare to.\n",
        " |      \n",
        " |      Returns\n",
        " |      -------\n",
        " |      bool\n",
        " |          ``True`` if `self` is not equal to `other`, ``False`` otherwise.\n",
        " |      \n",
        " |      See Also\n",
        " |      --------\n",
        " |      __eq__\n",
        " |      \n",
        " |      .. shownumpydoc\n",
        " |  \n",
        " |  __str__(self)\n",
        " |      Return a string representation of the dissimilarity matrix.\n",
        " |      \n",
        " |      Summary includes matrix dimensions, a (truncated) list of IDs, and\n",
        " |      (truncated) array of dissimilarities.\n",
        " |      \n",
        " |      Returns\n",
        " |      -------\n",
        " |      str\n",
        " |          String representation of the dissimilarity matrix.\n",
        " |      \n",
        " |      .. shownumpydoc\n",
        " |  \n",
        " |  copy(self)\n",
        " |      Return a deep copy of the dissimilarity matrix.\n",
        " |      \n",
        " |      Returns\n",
        " |      -------\n",
        " |      DissimilarityMatrix\n",
        " |          Deep copy of the dissimilarity matrix. Will be the same type as\n",
        " |          `self`.\n",
        " |  \n",
        " |  redundant_form(self)\n",
        " |      Return an array of dissimilarities in redundant format.\n",
        " |      \n",
        " |      As this is the native format that the dissimilarities are stored in,\n",
        " |      this is simply an alias for `data`.\n",
        " |      \n",
        " |      Returns\n",
        " |      -------\n",
        " |      ndarray\n",
        " |          Two-dimensional ``numpy.ndarray`` of dissimilarities in redundant\n",
        " |          format.\n",
        " |      \n",
        " |      Notes\n",
        " |      -----\n",
        " |      Redundant format is described in [1]_.\n",
        " |      \n",
        " |      Does *not* return a copy of the data.\n",
        " |      \n",
        " |      References\n",
        " |      ----------\n",
        " |      .. [1] http://docs.scipy.org/doc/scipy/reference/spatial.distance.html\n",
        " |  \n",
        " |  to_file(self, out_f, delimiter='\\t')\n",
        " |      Save the dissimilarity matrix to file in delimited text format.\n",
        " |      \n",
        " |      See Also\n",
        " |      --------\n",
        " |      from_file\n",
        " |      \n",
        " |      Parameters\n",
        " |      ----------\n",
        " |      out_f : file-like object or filename\n",
        " |          File-like object to write serialized data to, or name of\n",
        " |          file. If it's a file-like object, it must have a ``write``\n",
        " |          method, and it won't be closed. Else, it is opened and\n",
        " |          closed after writing.\n",
        " |      delimiter : str, optional\n",
        " |          Delimiter used to separate elements in output format.\n",
        " |  \n",
        " |  transpose(self)\n",
        " |      Return the transpose of the dissimilarity matrix.\n",
        " |      \n",
        " |      Notes\n",
        " |      -----\n",
        " |      A deep copy is returned.\n",
        " |      \n",
        " |      Returns\n",
        " |      -------\n",
        " |      DissimilarityMatrix\n",
        " |          Transpose of the dissimilarity matrix. Will be the same type as\n",
        " |          `self`.\n",
        " |  \n",
        " |  ----------------------------------------------------------------------\n",
        " |  Class methods inherited from DissimilarityMatrix:\n",
        " |  \n",
        " |  from_file(cls, dm_f, delimiter='\\t') from __builtin__.type\n",
        " |      Load dissimilarity matrix from a delimited text file or file path.\n",
        " |      \n",
        " |      Creates a `DissimilarityMatrix` instance from a serialized\n",
        " |      dissimilarity matrix stored as delimited text.\n",
        " |      \n",
        " |      `dm_f` can be a file-like or a file path object containing delimited\n",
        " |      text. The first line (header) must contain the IDs of each object. The\n",
        " |      subsequent lines must contain an ID followed by each dissimilarity\n",
        " |      (float) between the current object and all other objects, where the\n",
        " |      order of objects is determined by the header line.  For example, a 2x2\n",
        " |      dissimilarity matrix with IDs ``'a'`` and ``'b'`` might look like::\n",
        " |      \n",
        " |          <del>a<del>b\n",
        " |          a<del>0.0<del>1.0\n",
        " |          b<del>1.0<del>0.0\n",
        " |      \n",
        " |      where ``<del>`` is the delimiter between elements.\n",
        " |      \n",
        " |      Parameters\n",
        " |      ----------\n",
        " |      dm_f : iterable of str or str\n",
        " |          Iterable of strings (e.g., open file handle, file-like object, list\n",
        " |          of strings, etc.) or a file path (a string) containing a serialized\n",
        " |          dissimilarity matrix.\n",
        " |      delimiter : str, optional\n",
        " |          String delimiting elements in `dm_f`.\n",
        " |      \n",
        " |      Returns\n",
        " |      -------\n",
        " |      DissimilarityMatrix\n",
        " |          Instance of type `cls` containing the parsed contents of `dm_f`.\n",
        " |      \n",
        " |      Notes\n",
        " |      -----\n",
        " |      Whitespace-only lines can occur anywhere throughout the \"file\" and are\n",
        " |      ignored. Lines starting with ``#`` are treated as comments and ignored.\n",
        " |      These comments can only occur *before* the ID header.\n",
        " |      \n",
        " |      IDs will have any leading/trailing whitespace removed when they are\n",
        " |      parsed.\n",
        " |      \n",
        " |      .. note::\n",
        " |          File-like objects passed to this method will not be closed upon the\n",
        " |          completion of the parsing, it is responsibility of the owner of the\n",
        " |          object to perform this operation.\n",
        " |  \n",
        " |  ----------------------------------------------------------------------\n",
        " |  Data descriptors inherited from DissimilarityMatrix:\n",
        " |  \n",
        " |  T\n",
        " |      Transpose of the dissimilarity matrix.\n",
        " |      \n",
        " |      See Also\n",
        " |      --------\n",
        " |      transpose\n",
        " |  \n",
        " |  __dict__\n",
        " |      dictionary for instance variables (if defined)\n",
        " |  \n",
        " |  __weakref__\n",
        " |      list of weak references to the object (if defined)\n",
        " |  \n",
        " |  data\n",
        " |      Array of dissimilarities.\n",
        " |      \n",
        " |      A square, hollow, two-dimensional ``numpy.ndarray`` of dissimilarities\n",
        " |      (floats). A copy is *not* returned.\n",
        " |      \n",
        " |      Notes\n",
        " |      -----\n",
        " |      This property is not writeable.\n",
        " |  \n",
        " |  dtype\n",
        " |      Data type of the dissimilarities.\n",
        " |  \n",
        " |  ids\n",
        " |      Tuple of object IDs.\n",
        " |      \n",
        " |      A tuple of strings, one for each object in the dissimilarity matrix.\n",
        " |      \n",
        " |      Notes\n",
        " |      -----\n",
        " |      This property is writeable, but the number of new IDs must match the\n",
        " |      number of objects in `data`.\n",
        " |  \n",
        " |  shape\n",
        " |      Two-element tuple containing the dissimilarity matrix dimensions.\n",
        " |      \n",
        " |      Notes\n",
        " |      -----\n",
        " |      As the dissimilarity matrix is guaranteed to be square, both tuple\n",
        " |      entries will always be equal.\n",
        " |  \n",
        " |  size\n",
        " |      Total number of elements in the dissimilarity matrix.\n",
        " |      \n",
        " |      Notes\n",
        " |      -----\n",
        " |      Equivalent to ``self.shape[0] * self.shape[1]``.\n",
        "\n"
       ]
      }
     ],
     "prompt_number": 6
    },
    {
     "cell_type": "code",
     "collapsed": false,
     "input": [
      "DistanceMatrix?"
     ],
     "language": "python",
     "metadata": {},
     "outputs": [],
     "prompt_number": 7
    },
    {
     "cell_type": "code",
     "collapsed": false,
     "input": [
      "website('scikit-bio.org', 'scikit-bio website')"
     ],
     "language": "python",
     "metadata": {},
     "outputs": [
      {
       "html": [
        "<div class=\"nb_link\">\n",
        "<a href=\"http://scikit-bio.org\" target=\"_blank\">scikit-bio website</a>\n",
        "</div>\n",
        "<iframe src=\"http://scikit-bio.org\"  width=\"800\" height=\"450\">"
       ],
       "metadata": {},
       "output_type": "pyout",
       "prompt_number": 8,
       "text": [
        "<IPython.core.display.HTML at 0x213a110>"
       ]
      }
     ],
     "prompt_number": 8
    },
    {
     "cell_type": "markdown",
     "metadata": {
      "slideshow": {
       "slide_type": "slide"
      }
     },
     "source": [
      "# Testing/validation\n",
      "\n",
      "## Wide variety of tests:\n",
      "* Unit tests\n",
      "* Documentation builds\n",
      "* Dead link checking\n",
      "* Code style checking (PEP8)\n",
      "* Doctests\n",
      "* Code coverage (**94%**)"
     ]
    },
    {
     "cell_type": "markdown",
     "metadata": {
      "slideshow": {
       "slide_type": "fragment"
      }
     },
     "source": [
      "## Continuous Integration (CI) via Travis-CI\n",
      "* Every pull request is tested\n",
      "* Every push to master branch is tested\n",
      "* Tested against multiple versions (Python and dependencies)"
     ]
    },
    {
     "cell_type": "markdown",
     "metadata": {
      "slideshow": {
       "slide_type": "slide"
      }
     },
     "source": [
      "# Live demo: distance-based statistics\n",
      "\n",
      "Let's work through an analysis that uses *distance-based statistics* to determine whether two or more groups of samples are significantly different (either in center or spread).\n",
      "\n",
      "We'll use <span class=\"emph\">ANOSIM</span> and <span class=\"emph\">PERMANOVA</span> to perform the hypothesis tests."
     ]
    },
    {
     "cell_type": "markdown",
     "metadata": {
      "slideshow": {
       "slide_type": "slide"
      }
     },
     "source": [
      "# Background: The Data\n",
      "\n",
      "We'll use the data from [Costello *et al.* Science (2009) Bacterial Community Variation in Human Body Habitats Across Space and Time](https://www.sciencemag.org/content/326/5960/1694.full).\n",
      "\n",
      "Figure 1 shows several different approaches for comparing the resulting UniFrac distance matrix (this image is linked from the *Science* journal website - copyright belongs to *Science*):\n",
      "\n",
      "<img src=\"https://www.sciencemag.org/content/326/5960/1694/F1.large.jpg\">\n",
      "\n",
      "We'll start with an unweighted UniFrac distance matrix generated by QIIME and a mapping file."
     ]
    },
    {
     "cell_type": "markdown",
     "metadata": {
      "slideshow": {
       "slide_type": "slide"
      }
     },
     "source": [
      "# Load the data"
     ]
    },
    {
     "cell_type": "code",
     "collapsed": false,
     "input": [
      "# Import the functionality we'll need to perform the analyses.\n",
      "import pandas as pd\n",
      "from skbio.core.distance import DistanceMatrix\n",
      "from skbio.math.stats.distance import ANOSIM, PERMANOVA"
     ],
     "language": "python",
     "metadata": {},
     "outputs": [],
     "prompt_number": 9
    },
    {
     "cell_type": "code",
     "collapsed": false,
     "input": [
      "# Load the distance matrix\n",
      "dm = DistanceMatrix.from_file('dm.txt')\n",
      "print dm"
     ],
     "language": "python",
     "metadata": {},
     "outputs": [
      {
       "output_type": "stream",
       "stream": "stdout",
       "text": [
        "439x439 distance matrix\n",
        "IDs:\n",
        "M12Aptr.140800, M41Kner.140735, F24Plmr.140433, M53Tong.140327, F31Indl.140679, ...\n",
        "Data:\n",
        "[[ 0.          0.8261686   0.80939057 ...,  0.76901199  0.56819613\n",
        "   0.67845042]\n",
        " [ 0.8261686   0.          0.6563376  ...,  0.58830727  0.71583148\n",
        "   0.72233134]\n",
        " [ 0.80939057  0.6563376   0.         ...,  0.63909922  0.71900128\n",
        "   0.71307195]\n",
        " ..., \n",
        " [ 0.76901199  0.58830727  0.63909922 ...,  0.          0.6172266\n",
        "   0.64172663]\n",
        " [ 0.56819613  0.71583148  0.71900128 ...,  0.6172266   0.          0.478762  ]\n",
        " [ 0.67845042  0.72233134  0.71307195 ...,  0.64172663  0.478762    0.        ]]\n"
       ]
      }
     ],
     "prompt_number": 10
    },
    {
     "cell_type": "code",
     "collapsed": false,
     "input": [
      "# Load the mapping file\n",
      "mf = pd.read_csv('map.txt', sep='\\t', index_col=0)"
     ],
     "language": "python",
     "metadata": {},
     "outputs": [],
     "prompt_number": 11
    },
    {
     "cell_type": "markdown",
     "metadata": {
      "slideshow": {
       "slide_type": "slide"
      }
     },
     "source": [
      "# Run ANOSIM"
     ]
    },
    {
     "cell_type": "code",
     "collapsed": false,
     "input": [
      "# Run ANOSIM with 999 permutations using the body site category.\n",
      "anosim = ANOSIM(dm, mf, 'BODY_SITE_COARSE')\n",
      "anosim(999)"
     ],
     "language": "python",
     "metadata": {},
     "outputs": [
      {
       "html": [
        "<div style=\"max-height:1000px;max-width:1500px;overflow:auto;\">\n",
        "<table border=\"1\" class=\"dataframe\">\n",
        "  <thead>\n",
        "    <tr style=\"text-align: right;\">\n",
        "      <th></th>\n",
        "      <th>Sample size</th>\n",
        "      <th>Number of groups</th>\n",
        "      <th>R statistic</th>\n",
        "      <th>p-value</th>\n",
        "      <th>Number of permutations</th>\n",
        "    </tr>\n",
        "  </thead>\n",
        "  <tbody>\n",
        "    <tr>\n",
        "      <th>ANOSIM</th>\n",
        "      <td> 439</td>\n",
        "      <td> 3</td>\n",
        "      <td> 0.643089761317</td>\n",
        "      <td> 0.001</td>\n",
        "      <td> 999</td>\n",
        "    </tr>\n",
        "  </tbody>\n",
        "</table>\n",
        "<p>1 rows \u00d7 5 columns</p>\n",
        "</div>"
       ],
       "metadata": {},
       "output_type": "pyout",
       "prompt_number": 12,
       "text": [
        "<skbio.math.stats.distance.base.CategoricalStatsResults at 0x264e410>"
       ]
      }
     ],
     "prompt_number": 12
    },
    {
     "cell_type": "code",
     "collapsed": false,
     "input": [
      "# Run ANOSIM with 999 permutations using the sex category.\n",
      "anosim = ANOSIM(dm, mf, 'SEX')\n",
      "anosim(999)"
     ],
     "language": "python",
     "metadata": {},
     "outputs": [
      {
       "html": [
        "<div style=\"max-height:1000px;max-width:1500px;overflow:auto;\">\n",
        "<table border=\"1\" class=\"dataframe\">\n",
        "  <thead>\n",
        "    <tr style=\"text-align: right;\">\n",
        "      <th></th>\n",
        "      <th>Sample size</th>\n",
        "      <th>Number of groups</th>\n",
        "      <th>R statistic</th>\n",
        "      <th>p-value</th>\n",
        "      <th>Number of permutations</th>\n",
        "    </tr>\n",
        "  </thead>\n",
        "  <tbody>\n",
        "    <tr>\n",
        "      <th>ANOSIM</th>\n",
        "      <td> 439</td>\n",
        "      <td> 2</td>\n",
        "      <td> 0.0221749413225</td>\n",
        "      <td> 0.030</td>\n",
        "      <td> 999</td>\n",
        "    </tr>\n",
        "  </tbody>\n",
        "</table>\n",
        "<p>1 rows \u00d7 5 columns</p>\n",
        "</div>"
       ],
       "metadata": {},
       "output_type": "pyout",
       "prompt_number": 13,
       "text": [
        "<skbio.math.stats.distance.base.CategoricalStatsResults at 0x396ef50>"
       ]
      }
     ],
     "prompt_number": 13
    },
    {
     "cell_type": "markdown",
     "metadata": {
      "slideshow": {
       "slide_type": "slide"
      }
     },
     "source": [
      "# Run PERMANOVA"
     ]
    },
    {
     "cell_type": "code",
     "collapsed": false,
     "input": [
      "# Run PERMANOVA with 999 permutations using the body site category.\n",
      "permanova = PERMANOVA(dm, mf, 'BODY_SITE_COARSE')\n",
      "permanova(999)"
     ],
     "language": "python",
     "metadata": {},
     "outputs": [
      {
       "html": [
        "<div style=\"max-height:1000px;max-width:1500px;overflow:auto;\">\n",
        "<table border=\"1\" class=\"dataframe\">\n",
        "  <thead>\n",
        "    <tr style=\"text-align: right;\">\n",
        "      <th></th>\n",
        "      <th>Sample size</th>\n",
        "      <th>Number of groups</th>\n",
        "      <th>pseudo-F statistic</th>\n",
        "      <th>p-value</th>\n",
        "      <th>Number of permutations</th>\n",
        "    </tr>\n",
        "  </thead>\n",
        "  <tbody>\n",
        "    <tr>\n",
        "      <th>PERMANOVA</th>\n",
        "      <td> 439</td>\n",
        "      <td> 3</td>\n",
        "      <td> 51.2561893345</td>\n",
        "      <td> 0.001</td>\n",
        "      <td> 999</td>\n",
        "    </tr>\n",
        "  </tbody>\n",
        "</table>\n",
        "<p>1 rows \u00d7 5 columns</p>\n",
        "</div>"
       ],
       "metadata": {},
       "output_type": "pyout",
       "prompt_number": 14,
       "text": [
        "<skbio.math.stats.distance.base.CategoricalStatsResults at 0x3ce89d0>"
       ]
      }
     ],
     "prompt_number": 14
    },
    {
     "cell_type": "code",
     "collapsed": false,
     "input": [
      "# Run PERMANOVA with 999 permutations using the sex category.\n",
      "permanova = PERMANOVA(dm, mf, 'SEX')\n",
      "permanova(999)"
     ],
     "language": "python",
     "metadata": {},
     "outputs": [
      {
       "html": [
        "<div style=\"max-height:1000px;max-width:1500px;overflow:auto;\">\n",
        "<table border=\"1\" class=\"dataframe\">\n",
        "  <thead>\n",
        "    <tr style=\"text-align: right;\">\n",
        "      <th></th>\n",
        "      <th>Sample size</th>\n",
        "      <th>Number of groups</th>\n",
        "      <th>pseudo-F statistic</th>\n",
        "      <th>p-value</th>\n",
        "      <th>Number of permutations</th>\n",
        "    </tr>\n",
        "  </thead>\n",
        "  <tbody>\n",
        "    <tr>\n",
        "      <th>PERMANOVA</th>\n",
        "      <td> 439</td>\n",
        "      <td> 2</td>\n",
        "      <td> 3.41228470844</td>\n",
        "      <td> 0.001</td>\n",
        "      <td> 999</td>\n",
        "    </tr>\n",
        "  </tbody>\n",
        "</table>\n",
        "<p>1 rows \u00d7 5 columns</p>\n",
        "</div>"
       ],
       "metadata": {},
       "output_type": "pyout",
       "prompt_number": 15,
       "text": [
        "<skbio.math.stats.distance.base.CategoricalStatsResults at 0x3ce82d0>"
       ]
      }
     ],
     "prompt_number": 15
    },
    {
     "cell_type": "markdown",
     "metadata": {
      "slideshow": {
       "slide_type": "slide"
      }
     },
     "source": [
      "# Next steps\n",
      "\n",
      "* Initial 0.1.0 release this week\n",
      "* Present at SciPy 2014 (July)\n",
      "* Stabilize API\n",
      "* Automated performance testing\n",
      "* New features\n",
      "  - alpha/beta diversity metrics\n",
      "  - more distance-based stats"
     ]
    },
    {
     "cell_type": "markdown",
     "metadata": {
      "slideshow": {
       "slide_type": "slide"
      }
     },
     "source": [
      "# Acknowledgments\n",
      "\n",
      "Special thanks to:\n",
      "\n",
      "* scikit-bio developers\n",
      "* [Knight Lab](https://knightlab.colorado.edu)\n",
      "* IPython developers\n",
      "\n",
      "This notebook is based on the template/tools provided in Fernando Perez's [nb-slideshow-template](https://github.com/fperez/nb-slideshow-template) repository, and is licensed under the [new BSD license](http://opensource.org/licenses/BSD-3-Clause)."
     ]
    },
    {
     "cell_type": "markdown",
     "metadata": {
      "slideshow": {
       "slide_type": "slide"
      }
     },
     "source": [
      "# Thanks for listening!"
     ]
    },
    {
     "cell_type": "code",
     "collapsed": false,
     "input": [
      "import skbio\n",
      "print skbio.title\n",
      "print skbio.art\n",
      "print skbio.motto"
     ],
     "language": "python",
     "metadata": {},
     "outputs": [
      {
       "output_type": "stream",
       "stream": "stdout",
       "text": [
        "\n",
        "               _ _    _ _          _     _\n",
        "              (_) |  (_) |        | |   (_)\n",
        "      ___  ___ _| | ___| |_ ______| |__  _  ___\n",
        "     / __|/ __| | |/ / | __|______| '_ \\| |/ _ \\\n",
        "     \\__ \\ (__| |   <| | |_       | |_) | | (_) |\n",
        "     |___/\\___|_|_|\\_\\_|\\__|      |_.__/|_|\\___/\n",
        "\n",
        "\n",
        "\n",
        "\n",
        "           Opisthokonta\n",
        "                   \\  Amoebozoa\n",
        "                    \\ /\n",
        "                     *    Euryarchaeota\n",
        "                      \\     |_ Crenarchaeota\n",
        "                       \\   *\n",
        "                        \\ /\n",
        "                         *\n",
        "                        /\n",
        "                       /\n",
        "                      /\n",
        "                     *\n",
        "                    / \\\n",
        "                   /   \\\n",
        "        Proteobacteria  \\\n",
        "                       Cyanobacteria\n",
        "\n",
        "It's gonna get weird, bro.\n"
       ]
      }
     ],
     "prompt_number": 16
    }
   ],
   "metadata": {}
  }
 ]
}