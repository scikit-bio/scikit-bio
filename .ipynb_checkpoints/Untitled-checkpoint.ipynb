{
 "cells": [
  {
   "cell_type": "code",
   "execution_count": 39,
   "metadata": {
    "collapsed": true
   },
   "outputs": [],
   "source": [
    "from skbio.stats.composition import *\n"
   ]
  },
  {
   "cell_type": "code",
   "execution_count": null,
   "metadata": {
    "collapsed": true
   },
   "outputs": [],
   "source": [
    "def test_sbp_basis():\n",
    "    gsbasis = clr_inv(composition._gram_schmidt_basis(5))\n",
    "    sbp = np.array([[1,-1, 0, 0, 0],\n",
    "                    [1, 1,-1, 0, 0],\n",
    "                    [1, 1, 1,-1, 0],\n",
    "                    [1, 1, 1, 1,-1]])\n",
    "    sbpbasis = composition.sbp_basis(sbp)\n",
    "    npt.assert_allclose(gsbasis, sbpbasis)"
   ]
  },
  {
   "cell_type": "code",
   "execution_count": 33,
   "metadata": {
    "collapsed": false
   },
   "outputs": [],
   "source": [
    "sbp = np.array([[1, 1, 1, 1, 1, 1, 1, 1, 1, 1, 1,-1],\n",
    "                [1, 1, 1, 1, 1, 1, 1,-1,-1,-1,-1, 0],\n",
    "                [1, 1, 1, 1, 1, 1,-1, 0, 0, 0, 0, 0],\n",
    "                [1, 1,-1,-1,-1, 1, 0, 0, 0, 0, 0, 0],\n",
    "                [1,-1, 0, 0, 0, 1, 0, 0, 0, 0, 0, 0],\n",
    "                [1, 0, 0, 0, 0,-1, 0, 0, 0, 0, 0, 0],\n",
    "                [0, 0, 1,-1,-1, 0, 0, 0, 0, 0, 0, 0],\n",
    "                [0, 0, 0, 1,-1, 0, 0, 0, 0, 0, 0, 0],\n",
    "                [0, 0, 0, 0, 0, 0, 0, 1,-1,-1, 1, 0],\n",
    "                [0, 0, 0, 0, 0, 0, 0, 1, 0, 0,-1, 0],\n",
    "                [0, 0, 0, 0, 0, 0, 0, 0, 1,-1, 0, 0]])\n",
    "sbp = np.array([[1,-1, 0, 0, 0],\n",
    "                    [1, 1,-1, 0, 0],\n",
    "                    [1, 1, 1,-1, 0],\n",
    "                    [1, 1, 1, 1,-1]])\n",
    "sbpbasis = composition.sbp_basis(sbp)"
   ]
  },
  {
   "cell_type": "code",
   "execution_count": 34,
   "metadata": {
    "collapsed": false
   },
   "outputs": [],
   "source": [
    "r = np.apply_along_axis(func1d = lambda x: np.sum(x > 0), axis = 1, arr = sbp)\n",
    "s = np.apply_along_axis(func1d = lambda x: np.sum(x < 0), axis = 1, arr = sbp)"
   ]
  },
  {
   "cell_type": "code",
   "execution_count": 35,
   "metadata": {
    "collapsed": false
   },
   "outputs": [],
   "source": [
    "psi = np.zeros(sbp.shape)\n",
    "for i in range(0, sbp.shape[0]):\n",
    "    for j in range(0, sbp.shape[1]):\n",
    "        if sbp[i, j]==1:\n",
    "            psi[i, j] = np.sqrt(s[i]/(r[i]*(r[i]+s[i])))\n",
    "        else:\n",
    "            psi[i, j] = -np.sqrt(r[i]/(s[i]*(r[i]+s[i])))"
   ]
  },
  {
   "cell_type": "code",
   "execution_count": null,
   "metadata": {
    "collapsed": true
   },
   "outputs": [],
   "source": []
  },
  {
   "cell_type": "code",
   "execution_count": 36,
   "metadata": {
    "collapsed": false
   },
   "outputs": [
    {
     "data": {
      "text/plain": [
       "array([[ 0.50697935,  0.12325516,  0.12325516,  0.12325516,  0.12325516],\n",
       "       [ 0.34704172,  0.34704172,  0.10197219,  0.10197219,  0.10197219],\n",
       "       [ 0.27545904,  0.27545904,  0.27545904,  0.08681144,  0.08681144],\n",
       "       [ 0.23111117,  0.23111117,  0.23111117,  0.23111117,  0.0755553 ]])"
      ]
     },
     "execution_count": 36,
     "metadata": {},
     "output_type": "execute_result"
    }
   ],
   "source": [
    "clr_inv(psi)"
   ]
  },
  {
   "cell_type": "code",
   "execution_count": 42,
   "metadata": {
    "collapsed": false
   },
   "outputs": [
    {
     "data": {
      "text/plain": [
       "array([[ 0.36733337,  0.08930489,  0.18112058,  0.18112058,  0.18112058],\n",
       "       [ 0.27597929,  0.27597929,  0.08109173,  0.18347484,  0.18347484],\n",
       "       [ 0.24603832,  0.24603832,  0.24603832,  0.07753944,  0.18434559],\n",
       "       [ 0.23111117,  0.23111117,  0.23111117,  0.23111117,  0.0755553 ]])"
      ]
     },
     "execution_count": 42,
     "metadata": {},
     "output_type": "execute_result"
    }
   ],
   "source": [
    "sbp_basis(sbp)"
   ]
  },
  {
   "cell_type": "code",
   "execution_count": 46,
   "metadata": {
    "collapsed": false
   },
   "outputs": [
    {
     "data": {
      "text/plain": [
       "array([[ 0.36733337,  0.08930489,  0.18112058,  0.18112058,  0.18112058],\n",
       "       [ 0.27597929,  0.27597929,  0.08109173,  0.18347484,  0.18347484],\n",
       "       [ 0.24603832,  0.24603832,  0.24603832,  0.07753944,  0.18434559],\n",
       "       [ 0.23111117,  0.23111117,  0.23111117,  0.23111117,  0.0755553 ]])"
      ]
     },
     "execution_count": 46,
     "metadata": {},
     "output_type": "execute_result"
    }
   ],
   "source": [
    "clr_inv(composition._gram_schmidt_basis(5))"
   ]
  },
  {
   "cell_type": "code",
   "execution_count": null,
   "metadata": {
    "collapsed": true
   },
   "outputs": [],
   "source": []
  }
 ],
 "metadata": {
  "kernelspec": {
   "display_name": "Python 3",
   "language": "python",
   "name": "python3"
  },
  "language_info": {
   "codemirror_mode": {
    "name": "ipython",
    "version": 3
   },
   "file_extension": ".py",
   "mimetype": "text/x-python",
   "name": "python",
   "nbconvert_exporter": "python",
   "pygments_lexer": "ipython3",
   "version": "3.4.5"
  }
 },
 "nbformat": 4,
 "nbformat_minor": 2
}
