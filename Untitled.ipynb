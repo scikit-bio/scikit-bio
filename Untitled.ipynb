{
 "cells": [
  {
   "cell_type": "code",
   "execution_count": 39,
   "metadata": {
    "collapsed": true
   },
   "outputs": [],
   "source": [
    "from skbio.stats.composition import *\n"
   ]
  },
  {
   "cell_type": "code",
   "execution_count": 65,
   "metadata": {
    "collapsed": true
   },
   "outputs": [],
   "source": [
    "def test_sbp_basis_gram_schmidt():\n",
    "    gsbasis = clr_inv(composition._gram_schmidt_basis(5))\n",
    "    sbp = np.array([[1,-1, 0, 0, 0],\n",
    "                    [1, 1,-1, 0, 0],\n",
    "                    [1, 1, 1,-1, 0],\n",
    "                    [1, 1, 1, 1,-1]])\n",
    "    sbpbasis = composition.sbp_basis(sbp)\n",
    "    npt.assert_allclose(gsbasis, sbpbasis)"
   ]
  },
  {
   "cell_type": "code",
   "execution_count": 63,
   "metadata": {
    "collapsed": true
   },
   "outputs": [],
   "source": [
    "def test_sbp_basis_elementwise():\n",
    "    sbp = np.array([[1, 1, 1, 1, 1, 1, 1, 1, 1, 1, 1,-1],\n",
    "                    [1, 1, 1, 1, 1, 1, 1,-1,-1,-1,-1, 0],\n",
    "                    [1, 1, 1, 1, 1, 1,-1, 0, 0, 0, 0, 0],\n",
    "                    [1, 1,-1,-1,-1, 1, 0, 0, 0, 0, 0, 0],\n",
    "                    [1,-1, 0, 0, 0, 1, 0, 0, 0, 0, 0, 0],\n",
    "                    [1, 0, 0, 0, 0,-1, 0, 0, 0, 0, 0, 0],\n",
    "                    [0, 0, 1,-1,-1, 0, 0, 0, 0, 0, 0, 0],\n",
    "                    [0, 0, 0, 1,-1, 0, 0, 0, 0, 0, 0, 0],\n",
    "                    [0, 0, 0, 0, 0, 0, 0, 1,-1,-1, 1, 0],\n",
    "                    [0, 0, 0, 0, 0, 0, 0, 1, 0, 0,-1, 0],\n",
    "                    [0, 0, 0, 0, 0, 0, 0, 0, 1,-1, 0, 0]])\n",
    "    sbpbasis = composition.sbp_basis(sbp)\n",
    "    # by hand, element-wise\n",
    "    r = np.apply_along_axis(func1d = lambda x: np.sum(x > 0), axis = 1, arr = sbp)\n",
    "    s = np.apply_along_axis(func1d = lambda x: np.sum(x < 0), axis = 1, arr = sbp)\n",
    "    psi = np.zeros(sbp.shape)\n",
    "    for i in range(0, sbp.shape[0]):\n",
    "        for j in range(0, sbp.shape[1]):\n",
    "            if sbp[i, j]==1:\n",
    "                psi[i, j] = np.sqrt(s[i]/(r[i]*(r[i]+s[i])))\n",
    "            elif sbp[i, j]==-1:\n",
    "                psi[i, j] = -np.sqrt(r[i]/(s[i]*(r[i]+s[i])))\n",
    "    basis_byhand = clr_inv(psi)\n",
    "    npt.assert_allclose(basis_byhand, sbpbasis)"
   ]
  },
  {
   "cell_type": "code",
   "execution_count": 66,
   "metadata": {
    "collapsed": true
   },
   "outputs": [],
   "source": [
    "test_sbp_basis_elementwise()\n",
    "test_sbp_basis_gram_schmidt()"
   ]
  },
  {
   "cell_type": "code",
   "execution_count": 54,
   "metadata": {
    "collapsed": false
   },
   "outputs": [],
   "source": [
    "sbp = np.array([[1, 1, 1, 1, 1, 1, 1, 1, 1, 1, 1,-1],\n",
    "                [1, 1, 1, 1, 1, 1, 1,-1,-1,-1,-1, 0],\n",
    "                [1, 1, 1, 1, 1, 1,-1, 0, 0, 0, 0, 0],\n",
    "                [1, 1,-1,-1,-1, 1, 0, 0, 0, 0, 0, 0],\n",
    "                [1,-1, 0, 0, 0, 1, 0, 0, 0, 0, 0, 0],\n",
    "                [1, 0, 0, 0, 0,-1, 0, 0, 0, 0, 0, 0],\n",
    "                [0, 0, 1,-1,-1, 0, 0, 0, 0, 0, 0, 0],\n",
    "                [0, 0, 0, 1,-1, 0, 0, 0, 0, 0, 0, 0],\n",
    "                [0, 0, 0, 0, 0, 0, 0, 1,-1,-1, 1, 0],\n",
    "                [0, 0, 0, 0, 0, 0, 0, 1, 0, 0,-1, 0],\n",
    "                [0, 0, 0, 0, 0, 0, 0, 0, 1,-1, 0, 0]])\n",
    "sbpbasis = composition.sbp_basis(sbp)"
   ]
  },
  {
   "cell_type": "code",
   "execution_count": 55,
   "metadata": {
    "collapsed": false
   },
   "outputs": [],
   "source": [
    "r = np.apply_along_axis(func1d = lambda x: np.sum(x > 0), axis = 1, arr = sbp)\n",
    "s = np.apply_along_axis(func1d = lambda x: np.sum(x < 0), axis = 1, arr = sbp)"
   ]
  },
  {
   "cell_type": "code",
   "execution_count": 56,
   "metadata": {
    "collapsed": false
   },
   "outputs": [],
   "source": [
    "psi = np.zeros(sbp.shape)\n",
    "for i in range(0, sbp.shape[0]):\n",
    "    for j in range(0, sbp.shape[1]):\n",
    "        if sbp[i, j]==1:\n",
    "            psi[i, j] = np.sqrt(s[i]/(r[i]*(r[i]+s[i])))\n",
    "        elif sbp[i, j]==-1:\n",
    "            psi[i, j] = -np.sqrt(r[i]/(s[i]*(r[i]+s[i])))"
   ]
  },
  {
   "cell_type": "code",
   "execution_count": 60,
   "metadata": {
    "collapsed": false
   },
   "outputs": [],
   "source": [
    "basis_byhand = clr_inv(psi)"
   ]
  },
  {
   "cell_type": "code",
   "execution_count": 62,
   "metadata": {
    "collapsed": false
   },
   "outputs": [],
   "source": [
    "npt.assert_allclose(basis_byhand, sbpbasis) "
   ]
  },
  {
   "cell_type": "code",
   "execution_count": 3,
   "metadata": {
    "collapsed": false
   },
   "outputs": [
    {
     "ename": "AttributeError",
     "evalue": "'module' object has no attribute 'composition'",
     "output_type": "error",
     "traceback": [
      "\u001b[0;31m---------------------------------------------------------------------------\u001b[0m",
      "\u001b[0;31mAttributeError\u001b[0m                            Traceback (most recent call last)",
      "\u001b[0;32m<ipython-input-3-73b3ff4a3d6b>\u001b[0m in \u001b[0;36m<module>\u001b[0;34m()\u001b[0m\n\u001b[0;32m----> 1\u001b[0;31m \u001b[0mskbio\u001b[0m\u001b[0;34m.\u001b[0m\u001b[0mstats\u001b[0m\u001b[0;34m.\u001b[0m\u001b[0mcomposition\u001b[0m\u001b[0;34m.\u001b[0m\u001b[0malr\u001b[0m\u001b[0;34m(\u001b[0m\u001b[0;34m)\u001b[0m\u001b[0;34m\u001b[0m\u001b[0m\n\u001b[0m",
      "\u001b[0;31mAttributeError\u001b[0m: 'module' object has no attribute 'composition'"
     ]
    }
   ],
   "source": [
    "skbio.stats.composition.alr()"
   ]
  },
  {
   "cell_type": "code",
   "execution_count": 2,
   "metadata": {
    "collapsed": true
   },
   "outputs": [],
   "source": [
    "import skbio"
   ]
  },
  {
   "cell_type": "code",
   "execution_count": null,
   "metadata": {
    "collapsed": true
   },
   "outputs": [],
   "source": []
  }
 ],
 "metadata": {
  "kernelspec": {
   "display_name": "Python 3",
   "language": "python",
   "name": "python3"
  },
  "language_info": {
   "codemirror_mode": {
    "name": "ipython",
    "version": 3
   },
   "file_extension": ".py",
   "mimetype": "text/x-python",
   "name": "python",
   "nbconvert_exporter": "python",
   "pygments_lexer": "ipython3",
   "version": "3.4.5"
  }
 },
 "nbformat": 4,
 "nbformat_minor": 2
}
